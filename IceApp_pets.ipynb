{
  "nbformat": 4,
  "nbformat_minor": 0,
  "metadata": {
    "colab": {
      "name": "IceApp_pets.ipynb",
      "provenance": [],
      "collapsed_sections": [],
      "include_colab_link": true
    },
    "kernelspec": {
      "display_name": "Python 3",
      "name": "python3"
    }
  },
  "cells": [
    {
      "cell_type": "markdown",
      "metadata": {
        "id": "view-in-github",
        "colab_type": "text"
      },
      "source": [
        "<a href=\"https://colab.research.google.com/github/airctic/icevision-gradio/blob/master/IceApp_pets.ipynb\" target=\"_parent\"><img src=\"https://colab.research.google.com/assets/colab-badge.svg\" alt=\"Open In Colab\"/></a>"
      ]
    },
    {
      "cell_type": "markdown",
      "metadata": {
        "id": "iHu4AkVlnqGC"
      },
      "source": [
        "# IceVision Deployment App Example: PETS Dataset\n",
        "This example uses Faster RCNN trained weights using the [PETS dataset](https://airctic.github.io/icedata/pets/)\n",
        "\n",
        "[IceVision](https://github.com/airctic/IceVision) features:\n",
        "\n",
        "✔ Data curation/cleaning with auto-fix \n",
        "\n",
        "✔ Exploratory data analysis dashboard \n",
        "\n",
        "✔ Pluggable transforms for better model generalization  \n",
        "\n",
        "✔ Access to hundreds of neural net models (Torchvision, MMDetection, EfficientDet, Timm)\n",
        "\n",
        "✔ Access to multiple training loop libraries (Pytorch-Lightning, Fastai)\n",
        "\n",
        "✔ Multi-task training to efficiently combine object \n",
        "detection, segmentation, and classification models  "
      ]
    },
    {
      "cell_type": "markdown",
      "metadata": {
        "id": "xd_v-Xlzn3fC"
      },
      "source": [
        "## Installing packages"
      ]
    },
    {
      "cell_type": "code",
      "metadata": {
        "id": "QOBecVXt6vjF"
      },
      "source": [
        "!wget https://raw.githubusercontent.com/airctic/icevision/master/install_icevision_inference.sh\n",
        "!bash install_icevision_inference.sh colab"
      ],
      "execution_count": null,
      "outputs": []
    },
    {
      "cell_type": "code",
      "metadata": {
        "id": "VMHPhqmQmTBW"
      },
      "source": [
        "!echo \"- Installing gradio\"\n",
        "!pip install gradio -U -q"
      ],
      "execution_count": null,
      "outputs": []
    },
    {
      "cell_type": "code",
      "metadata": {
        "id": "9MrS3DOl92mv"
      },
      "source": [
        "# Restart kernel\n",
        "import IPython\n",
        "IPython.Application.instance().kernel.do_shutdown(True)"
      ],
      "execution_count": null,
      "outputs": []
    },
    {
      "cell_type": "markdown",
      "metadata": {
        "id": "RNVETtzKn-cU"
      },
      "source": [
        "## Imports"
      ]
    },
    {
      "cell_type": "code",
      "metadata": {
        "id": "2PDsjGDbHBZY"
      },
      "source": [
        "from icevision.all import *\n",
        "import icedata\n",
        "import PIL, requests\n",
        "import torch\n",
        "from torchvision import transforms\n",
        "import gradio as gr"
      ],
      "execution_count": null,
      "outputs": []
    },
    {
      "cell_type": "markdown",
      "metadata": {
        "id": "kAlNFd5JoAm8"
      },
      "source": [
        "## Loading trained model"
      ]
    },
    {
      "cell_type": "code",
      "metadata": {
        "id": "Ht3TqOI6-mMX"
      },
      "source": [
        "_CLASSES = sorted(\n",
        "    {\n",
        "        \"Abyssinian\",\n",
        "        \"great_pyrenees\",\n",
        "        \"Bombay\",\n",
        "        \"Persian\",\n",
        "        \"samoyed\",\n",
        "        \"Maine_Coon\",\n",
        "        \"havanese\",\n",
        "        \"beagle\",\n",
        "        \"yorkshire_terrier\",\n",
        "        \"pomeranian\",\n",
        "        \"scottish_terrier\",\n",
        "        \"saint_bernard\",\n",
        "        \"Siamese\",\n",
        "        \"chihuahua\",\n",
        "        \"Birman\",\n",
        "        \"american_pit_bull_terrier\",\n",
        "        \"miniature_pinscher\",\n",
        "        \"japanese_chin\",\n",
        "        \"British_Shorthair\",\n",
        "        \"Bengal\",\n",
        "        \"Russian_Blue\",\n",
        "        \"newfoundland\",\n",
        "        \"wheaten_terrier\",\n",
        "        \"Ragdoll\",\n",
        "        \"leonberger\",\n",
        "        \"english_cocker_spaniel\",\n",
        "        \"english_setter\",\n",
        "        \"staffordshire_bull_terrier\",\n",
        "        \"german_shorthaired\",\n",
        "        \"Egyptian_Mau\",\n",
        "        \"boxer\",\n",
        "        \"shiba_inu\",\n",
        "        \"keeshond\",\n",
        "        \"pug\",\n",
        "        \"american_bulldog\",\n",
        "        \"basset_hound\",\n",
        "        \"Sphynx\",\n",
        "    }\n",
        ")"
      ],
      "execution_count": 2,
      "outputs": []
    },
    {
      "cell_type": "code",
      "metadata": {
        "id": "gQriE5ru-pSf"
      },
      "source": [
        "class_map = ClassMap(_CLASSES)\n",
        "class_map"
      ],
      "execution_count": null,
      "outputs": []
    },
    {
      "cell_type": "code",
      "metadata": {
        "id": "ozEpZAqV9xdW"
      },
      "source": [
        "# Loading model from IceZoo (IceVision Hub)\n",
        "model = icedata.pets.trained_models.faster_rcnn_resnet50_fpn()"
      ],
      "execution_count": null,
      "outputs": []
    },
    {
      "cell_type": "code",
      "metadata": {
        "id": "HtaisAJT2yQo"
      },
      "source": [
        "# Transforms\n",
        "image_size = 384\n",
        "valid_tfms = tfms.A.Adapter([*tfms.A.resize_and_pad(image_size), tfms.A.Normalize()])"
      ],
      "execution_count": 5,
      "outputs": []
    },
    {
      "cell_type": "markdown",
      "metadata": {
        "id": "zWqaACGOoUCM"
      },
      "source": [
        "## Defining the `show_preds` method: called by `gr.Interface(fn=show_preds, ...)`"
      ]
    },
    {
      "cell_type": "code",
      "metadata": {
        "id": "pRMYOLT_9txF"
      },
      "source": [
        "# Setting the model type: used in end2end_detect() method here below\n",
        "model_type = models.torchvision.faster_rcnn"
      ],
      "execution_count": 6,
      "outputs": []
    },
    {
      "cell_type": "code",
      "metadata": {
        "id": "qJHmeIhwoSS5"
      },
      "source": [
        "def show_preds(input_image, display_label, display_bbox, detection_threshold):\n",
        "\n",
        "    if detection_threshold==0: detection_threshold=0.5\n",
        "\n",
        "    img = PIL.Image.fromarray(input_image, 'RGB')\n",
        "\n",
        "    pred_dict  = model_type.end2end_detect(img, valid_tfms, model, class_map=class_map, detection_threshold=detection_threshold,\n",
        "                                           display_label=display_label, display_bbox=display_bbox, return_img=True, \n",
        "                                           font_size=40, label_color=\"#FF59D6\")\n",
        "\n",
        "    return pred_dict['img']"
      ],
      "execution_count": 9,
      "outputs": []
    },
    {
      "cell_type": "markdown",
      "metadata": {
        "id": "yRvdtz40oim7"
      },
      "source": [
        "## Gradio User Interface"
      ]
    },
    {
      "cell_type": "code",
      "metadata": {
        "id": "QXYvH8xu3C2y"
      },
      "source": [
        "display_chkbox_label = gr.inputs.Checkbox(label=\"Label\", default=True)\n",
        "display_chkbox_box = gr.inputs.Checkbox(label=\"Box\", default=True)\n",
        "\n",
        "detection_threshold_slider = gr.inputs.Slider(minimum=0, maximum=1, step=0.1, default=0.5, label=\"Detection Threshold\")\n",
        "\n",
        "outputs = gr.outputs.Image(type=\"pil\")\n",
        "\n",
        "gr_interface = gr.Interface(fn=show_preds, inputs=[\"image\", display_chkbox_label, display_chkbox_box,  detection_threshold_slider], outputs=outputs, title='IceApp - PETS')\n",
        "gr_interface.launch(inline=False, share=True, debug=True)"
      ],
      "execution_count": null,
      "outputs": []
    }
  ]
}