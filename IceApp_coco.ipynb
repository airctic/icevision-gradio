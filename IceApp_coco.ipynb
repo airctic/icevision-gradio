{
  "nbformat": 4,
  "nbformat_minor": 0,
  "metadata": {
    "colab": {
      "name": "IceApp_coco.ipynb",
      "provenance": [],
      "collapsed_sections": []
    },
    "kernelspec": {
      "display_name": "Python 3",
      "name": "python3"
    }
  },
  "cells": [
    {
      "source": [
        "<a href=\"https://colab.research.google.com/github/airctic/icevision-gradio/blob/master/IceApp_coco.ipynb\" target=\"_parent\"><img src=\"https://colab.research.google.com/assets/colab-badge.svg\" alt=\"Open In Colab\"/></a>"
      ],
      "cell_type": "markdown",
      "metadata": {}
    },
    {
      "cell_type": "markdown",
      "metadata": {
        "id": "iHu4AkVlnqGC"
      },
      "source": [
        "# IceVision Deployment App Example\n",
        "[IceVision](https://github.com/airctic/IceVision) features:\n",
        "\n",
        "✔ Data curation/cleaning with auto-fix \n",
        "\n",
        "✔ Exploratory data analysis dashboard \n",
        "\n",
        "✔ Pluggable transforms for better model generalization  \n",
        "\n",
        "✔ Access to hundreds of neural net models (Torchvision, MMDetection, EfficientDet, Timm)\n",
        "\n",
        "✔ Access to multiple training loop libraries (Pytorch-Lightning, Fastai)\n",
        "\n",
        "✔ Multi-task training to efficiently combine object \n",
        "detection, segmentation, and classification models  "
      ]
    },
    {
      "cell_type": "markdown",
      "metadata": {
        "id": "xd_v-Xlzn3fC"
      },
      "source": [
        "## Installing packages"
      ]
    },
    {
      "cell_type": "code",
      "metadata": {
        "id": "xywzI5XVjI2S"
      },
      "source": [
        "!wget https://raw.githubusercontent.com/airctic/icevision/master/install_icevision_inference.sh\n",
        "!bash install_icevision_inference.sh colab"
      ],
      "execution_count": null,
      "outputs": []
    },
    {
      "cell_type": "code",
      "metadata": {
        "id": "jGaD1jw0H9Tj"
      },
      "source": [
        "!echo \"- Installing gradio\"\n",
        "!pip install gradio -U -q"
      ],
      "execution_count": null,
      "outputs": []
    },
    {
      "cell_type": "code",
      "metadata": {
        "id": "9H3ygjHu5xKB"
      },
      "source": [
        "# Restart kernel\n",
        "import IPython\n",
        "IPython.Application.instance().kernel.do_shutdown(True)"
      ],
      "execution_count": null,
      "outputs": []
    },
    {
      "cell_type": "markdown",
      "metadata": {
        "id": "RNVETtzKn-cU"
      },
      "source": [
        "## Imports"
      ]
    },
    {
      "cell_type": "code",
      "metadata": {
        "id": "2PDsjGDbHBZY"
      },
      "source": [
        "from icevision.all import *\n",
        "import icedata\n",
        "import PIL, requests\n",
        "import torch\n",
        "from torchvision import transforms\n",
        "import gradio as gr"
      ],
      "execution_count": null,
      "outputs": []
    },
    {
      "cell_type": "markdown",
      "metadata": {
        "id": "kAlNFd5JoAm8"
      },
      "source": [
        "## Loading trained model"
      ]
    },
    {
      "cell_type": "code",
      "metadata": {
        "id": "EmYCyB9BJGwg"
      },
      "source": [
        "class_map = icedata.coco.class_map()"
      ],
      "execution_count": 2,
      "outputs": []
    },
    {
      "cell_type": "code",
      "metadata": {
        "id": "oWqa2mF1Me7z"
      },
      "source": [
        "# Loading model from IceZoo (IceVision Hub)\n",
        "model = icedata.coco.trained_models.faster_rcnn_resnet50_fpn()"
      ],
      "execution_count": null,
      "outputs": []
    },
    {
      "cell_type": "code",
      "metadata": {
        "id": "kCgxl7Ai5BUA"
      },
      "source": [
        "# Transforms\n",
        "image_size = 384\n",
        "valid_tfms = tfms.A.Adapter([*tfms.A.resize_and_pad(image_size), tfms.A.Normalize()])"
      ],
      "execution_count": 4,
      "outputs": []
    },
    {
      "cell_type": "markdown",
      "metadata": {
        "id": "zWqaACGOoUCM"
      },
      "source": [
        "## Defining the `show_preds` method: called by `gr.Interface(fn=show_preds, ...)`"
      ]
    },
    {
      "cell_type": "code",
      "metadata": {
        "id": "2Ko37vvL7qVl"
      },
      "source": [
        "# Setting the model type: used in end2end_detect() method here below\n",
        "model_type = models.torchvision.faster_rcnn"
      ],
      "execution_count": 5,
      "outputs": []
    },
    {
      "cell_type": "code",
      "metadata": {
        "id": "GORNI_U47i6s"
      },
      "source": [
        "def show_preds(input_image, display_label, display_bbox, detection_threshold):\n",
        "\n",
        "    if detection_threshold==0: detection_threshold=0.5\n",
        "\n",
        "    img = PIL.Image.fromarray(input_image, 'RGB')\n",
        "\n",
        "    pred_dict  = model_type.end2end_detect(img, valid_tfms, model, class_map=class_map, detection_threshold=detection_threshold,\n",
        "                                           display_label=display_label, display_bbox=display_bbox, return_img=True, \n",
        "                                           font_size=16, label_color=\"#FF59D6\")\n",
        "\n",
        "    return pred_dict['img']"
      ],
      "execution_count": 13,
      "outputs": []
    },
    {
      "cell_type": "markdown",
      "metadata": {
        "id": "yRvdtz40oim7"
      },
      "source": [
        "## Gradio User Interface\n",
        "You have 3 options to feed the model (by commenting/uncommenting the code here below):\n",
        "\n",
        "1- Load an image from local drive\n",
        "\n",
        "2- Grab an image from the webcam\n",
        "\n",
        "3- Continuous image stream from the webcam\n",
        "\n",
        "> Note: You might check the Label and the BBox checkboxes, and set the Detection Thereshold to another value"
      ]
    },
    {
      "cell_type": "code",
      "metadata": {
        "id": "_tGwcfYUHBZr"
      },
      "source": [
        "# display_chkbox = gr.inputs.CheckboxGroup([\"Label\", \"BBox\"], label=\"Display\", default=True)\n",
        "display_chkbox_label = gr.inputs.Checkbox(label=\"Label\", default=True)\n",
        "display_chkbox_box = gr.inputs.Checkbox(label=\"Box\", default=True)\n",
        "\n",
        "detection_threshold_slider = gr.inputs.Slider(minimum=0, maximum=1, step=0.1, default=0.5, label=\"Detection Threshold\")\n",
        "\n",
        "outputs = gr.outputs.Image(type=\"pil\")\n",
        "\n",
        "# Option 1: Get an image from local drive\n",
        "gr_interface = gr.Interface(fn=show_preds, inputs=[\"image\", display_chkbox_label, display_chkbox_box,  detection_threshold_slider], outputs=outputs, title='IceApp - COCO')\n",
        "\n",
        "# #  Option 2: Grab an image from a webcam\n",
        "# gr_interface = gr.Interface(fn=show_preds, inputs=[\"webcam\", display_chkbox_label, display_chkbox_box,  detection_threshold_slider], outputs=outputs, title='IceApp - COCO', live=False)\n",
        "\n",
        "# #  Option 3: Continuous image stream from the webcam\n",
        "# gr_interface = gr.Interface(fn=show_preds, inputs=[\"webcam\", display_chkbox_label, display_chkbox_box,  detection_threshold_slider], outputs=outputs, title='IceApp - COCO', live=True)\n",
        "\n",
        "\n",
        "gr_interface.launch(inline=False, share=True, debug=True)\n"
      ],
      "execution_count": null,
      "outputs": []
    }
  ]
}